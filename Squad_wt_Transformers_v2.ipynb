{
  "nbformat": 4,
  "nbformat_minor": 0,
  "metadata": {
    "colab": {
      "name": "Squad_wt_Transformers.ipynb",
      "provenance": [],
      "collapsed_sections": [],
      "toc_visible": true,
      "include_colab_link": true
    },
    "kernelspec": {
      "name": "python3",
      "display_name": "Python 3"
    },
    "accelerator": "GPU",
    "widgets": {
      "application/vnd.jupyter.widget-state+json": {
        "bf84df533bf943ea858257e761ae978a": {
          "model_module": "@jupyter-widgets/controls",
          "model_name": "HBoxModel",
          "state": {
            "_view_name": "HBoxView",
            "_dom_classes": [],
            "_model_name": "HBoxModel",
            "_view_module": "@jupyter-widgets/controls",
            "_model_module_version": "1.5.0",
            "_view_count": null,
            "_view_module_version": "1.5.0",
            "box_style": "",
            "layout": "IPY_MODEL_af1dfcdbc8f24b85998025fbb9b04839",
            "_model_module": "@jupyter-widgets/controls",
            "children": [
              "IPY_MODEL_0d2d8ccce2814684a9a1a0a72a7a9f04",
              "IPY_MODEL_ea2e841644254c23884ca1d17d3442bc"
            ]
          }
        },
        "af1dfcdbc8f24b85998025fbb9b04839": {
          "model_module": "@jupyter-widgets/base",
          "model_name": "LayoutModel",
          "state": {
            "_view_name": "LayoutView",
            "grid_template_rows": null,
            "right": null,
            "justify_content": null,
            "_view_module": "@jupyter-widgets/base",
            "overflow": null,
            "_model_module_version": "1.2.0",
            "_view_count": null,
            "flex_flow": null,
            "width": null,
            "min_width": null,
            "border": null,
            "align_items": null,
            "bottom": null,
            "_model_module": "@jupyter-widgets/base",
            "top": null,
            "grid_column": null,
            "overflow_y": null,
            "overflow_x": null,
            "grid_auto_flow": null,
            "grid_area": null,
            "grid_template_columns": null,
            "flex": null,
            "_model_name": "LayoutModel",
            "justify_items": null,
            "grid_row": null,
            "max_height": null,
            "align_content": null,
            "visibility": null,
            "align_self": null,
            "height": null,
            "min_height": null,
            "padding": null,
            "grid_auto_rows": null,
            "grid_gap": null,
            "max_width": null,
            "order": null,
            "_view_module_version": "1.2.0",
            "grid_template_areas": null,
            "object_position": null,
            "object_fit": null,
            "grid_auto_columns": null,
            "margin": null,
            "display": null,
            "left": null
          }
        },
        "0d2d8ccce2814684a9a1a0a72a7a9f04": {
          "model_module": "@jupyter-widgets/controls",
          "model_name": "FloatProgressModel",
          "state": {
            "_view_name": "ProgressView",
            "style": "IPY_MODEL_2dede8f01499407585b4a544d6765088",
            "_dom_classes": [],
            "description": "Downloading: 100%",
            "_model_name": "FloatProgressModel",
            "bar_style": "success",
            "max": 740,
            "_view_module": "@jupyter-widgets/controls",
            "_model_module_version": "1.5.0",
            "value": 740,
            "_view_count": null,
            "_view_module_version": "1.5.0",
            "orientation": "horizontal",
            "min": 0,
            "description_tooltip": null,
            "_model_module": "@jupyter-widgets/controls",
            "layout": "IPY_MODEL_e0ef6c5c727845de9a7aeda877470093"
          }
        },
        "ea2e841644254c23884ca1d17d3442bc": {
          "model_module": "@jupyter-widgets/controls",
          "model_name": "HTMLModel",
          "state": {
            "_view_name": "HTMLView",
            "style": "IPY_MODEL_99d503dd102a47c3bf55527fba492fc8",
            "_dom_classes": [],
            "description": "",
            "_model_name": "HTMLModel",
            "placeholder": "​",
            "_view_module": "@jupyter-widgets/controls",
            "_model_module_version": "1.5.0",
            "value": " 740/740 [00:02&lt;00:00, 360B/s]",
            "_view_count": null,
            "_view_module_version": "1.5.0",
            "description_tooltip": null,
            "_model_module": "@jupyter-widgets/controls",
            "layout": "IPY_MODEL_efbf079376524284a0848310424c5577"
          }
        },
        "2dede8f01499407585b4a544d6765088": {
          "model_module": "@jupyter-widgets/controls",
          "model_name": "ProgressStyleModel",
          "state": {
            "_view_name": "StyleView",
            "_model_name": "ProgressStyleModel",
            "description_width": "initial",
            "_view_module": "@jupyter-widgets/base",
            "_model_module_version": "1.5.0",
            "_view_count": null,
            "_view_module_version": "1.2.0",
            "bar_color": null,
            "_model_module": "@jupyter-widgets/controls"
          }
        },
        "e0ef6c5c727845de9a7aeda877470093": {
          "model_module": "@jupyter-widgets/base",
          "model_name": "LayoutModel",
          "state": {
            "_view_name": "LayoutView",
            "grid_template_rows": null,
            "right": null,
            "justify_content": null,
            "_view_module": "@jupyter-widgets/base",
            "overflow": null,
            "_model_module_version": "1.2.0",
            "_view_count": null,
            "flex_flow": null,
            "width": null,
            "min_width": null,
            "border": null,
            "align_items": null,
            "bottom": null,
            "_model_module": "@jupyter-widgets/base",
            "top": null,
            "grid_column": null,
            "overflow_y": null,
            "overflow_x": null,
            "grid_auto_flow": null,
            "grid_area": null,
            "grid_template_columns": null,
            "flex": null,
            "_model_name": "LayoutModel",
            "justify_items": null,
            "grid_row": null,
            "max_height": null,
            "align_content": null,
            "visibility": null,
            "align_self": null,
            "height": null,
            "min_height": null,
            "padding": null,
            "grid_auto_rows": null,
            "grid_gap": null,
            "max_width": null,
            "order": null,
            "_view_module_version": "1.2.0",
            "grid_template_areas": null,
            "object_position": null,
            "object_fit": null,
            "grid_auto_columns": null,
            "margin": null,
            "display": null,
            "left": null
          }
        },
        "99d503dd102a47c3bf55527fba492fc8": {
          "model_module": "@jupyter-widgets/controls",
          "model_name": "DescriptionStyleModel",
          "state": {
            "_view_name": "StyleView",
            "_model_name": "DescriptionStyleModel",
            "description_width": "",
            "_view_module": "@jupyter-widgets/base",
            "_model_module_version": "1.5.0",
            "_view_count": null,
            "_view_module_version": "1.2.0",
            "_model_module": "@jupyter-widgets/controls"
          }
        },
        "efbf079376524284a0848310424c5577": {
          "model_module": "@jupyter-widgets/base",
          "model_name": "LayoutModel",
          "state": {
            "_view_name": "LayoutView",
            "grid_template_rows": null,
            "right": null,
            "justify_content": null,
            "_view_module": "@jupyter-widgets/base",
            "overflow": null,
            "_model_module_version": "1.2.0",
            "_view_count": null,
            "flex_flow": null,
            "width": null,
            "min_width": null,
            "border": null,
            "align_items": null,
            "bottom": null,
            "_model_module": "@jupyter-widgets/base",
            "top": null,
            "grid_column": null,
            "overflow_y": null,
            "overflow_x": null,
            "grid_auto_flow": null,
            "grid_area": null,
            "grid_template_columns": null,
            "flex": null,
            "_model_name": "LayoutModel",
            "justify_items": null,
            "grid_row": null,
            "max_height": null,
            "align_content": null,
            "visibility": null,
            "align_self": null,
            "height": null,
            "min_height": null,
            "padding": null,
            "grid_auto_rows": null,
            "grid_gap": null,
            "max_width": null,
            "order": null,
            "_view_module_version": "1.2.0",
            "grid_template_areas": null,
            "object_position": null,
            "object_fit": null,
            "grid_auto_columns": null,
            "margin": null,
            "display": null,
            "left": null
          }
        },
        "a369914552e246278a0deb6d940edd5c": {
          "model_module": "@jupyter-widgets/controls",
          "model_name": "HBoxModel",
          "state": {
            "_view_name": "HBoxView",
            "_dom_classes": [],
            "_model_name": "HBoxModel",
            "_view_module": "@jupyter-widgets/controls",
            "_model_module_version": "1.5.0",
            "_view_count": null,
            "_view_module_version": "1.5.0",
            "box_style": "",
            "layout": "IPY_MODEL_c4cd2f6de209455d9b3d04a1692c53b2",
            "_model_module": "@jupyter-widgets/controls",
            "children": [
              "IPY_MODEL_1129eb9d506c4249b2005de396e56e99",
              "IPY_MODEL_74b33e4bd38742f98b4324ec38b8dab6"
            ]
          }
        },
        "c4cd2f6de209455d9b3d04a1692c53b2": {
          "model_module": "@jupyter-widgets/base",
          "model_name": "LayoutModel",
          "state": {
            "_view_name": "LayoutView",
            "grid_template_rows": null,
            "right": null,
            "justify_content": null,
            "_view_module": "@jupyter-widgets/base",
            "overflow": null,
            "_model_module_version": "1.2.0",
            "_view_count": null,
            "flex_flow": null,
            "width": null,
            "min_width": null,
            "border": null,
            "align_items": null,
            "bottom": null,
            "_model_module": "@jupyter-widgets/base",
            "top": null,
            "grid_column": null,
            "overflow_y": null,
            "overflow_x": null,
            "grid_auto_flow": null,
            "grid_area": null,
            "grid_template_columns": null,
            "flex": null,
            "_model_name": "LayoutModel",
            "justify_items": null,
            "grid_row": null,
            "max_height": null,
            "align_content": null,
            "visibility": null,
            "align_self": null,
            "height": null,
            "min_height": null,
            "padding": null,
            "grid_auto_rows": null,
            "grid_gap": null,
            "max_width": null,
            "order": null,
            "_view_module_version": "1.2.0",
            "grid_template_areas": null,
            "object_position": null,
            "object_fit": null,
            "grid_auto_columns": null,
            "margin": null,
            "display": null,
            "left": null
          }
        },
        "1129eb9d506c4249b2005de396e56e99": {
          "model_module": "@jupyter-widgets/controls",
          "model_name": "FloatProgressModel",
          "state": {
            "_view_name": "ProgressView",
            "style": "IPY_MODEL_31944a4f1b014011877c75132c7849b0",
            "_dom_classes": [],
            "description": "Downloading: 100%",
            "_model_name": "FloatProgressModel",
            "bar_style": "success",
            "max": 239836,
            "_view_module": "@jupyter-widgets/controls",
            "_model_module_version": "1.5.0",
            "value": 239836,
            "_view_count": null,
            "_view_module_version": "1.5.0",
            "orientation": "horizontal",
            "min": 0,
            "description_tooltip": null,
            "_model_module": "@jupyter-widgets/controls",
            "layout": "IPY_MODEL_838a4f78693f41e2b6ee9ee96333281f"
          }
        },
        "74b33e4bd38742f98b4324ec38b8dab6": {
          "model_module": "@jupyter-widgets/controls",
          "model_name": "HTMLModel",
          "state": {
            "_view_name": "HTMLView",
            "style": "IPY_MODEL_72145d3d444c4718822ab9c6dac1c82e",
            "_dom_classes": [],
            "description": "",
            "_model_name": "HTMLModel",
            "placeholder": "​",
            "_view_module": "@jupyter-widgets/controls",
            "_model_module_version": "1.5.0",
            "value": " 240k/240k [00:01&lt;00:00, 192kB/s]",
            "_view_count": null,
            "_view_module_version": "1.5.0",
            "description_tooltip": null,
            "_model_module": "@jupyter-widgets/controls",
            "layout": "IPY_MODEL_0836032dfee64c37bced1c593aa2a076"
          }
        },
        "31944a4f1b014011877c75132c7849b0": {
          "model_module": "@jupyter-widgets/controls",
          "model_name": "ProgressStyleModel",
          "state": {
            "_view_name": "StyleView",
            "_model_name": "ProgressStyleModel",
            "description_width": "initial",
            "_view_module": "@jupyter-widgets/base",
            "_model_module_version": "1.5.0",
            "_view_count": null,
            "_view_module_version": "1.2.0",
            "bar_color": null,
            "_model_module": "@jupyter-widgets/controls"
          }
        },
        "838a4f78693f41e2b6ee9ee96333281f": {
          "model_module": "@jupyter-widgets/base",
          "model_name": "LayoutModel",
          "state": {
            "_view_name": "LayoutView",
            "grid_template_rows": null,
            "right": null,
            "justify_content": null,
            "_view_module": "@jupyter-widgets/base",
            "overflow": null,
            "_model_module_version": "1.2.0",
            "_view_count": null,
            "flex_flow": null,
            "width": null,
            "min_width": null,
            "border": null,
            "align_items": null,
            "bottom": null,
            "_model_module": "@jupyter-widgets/base",
            "top": null,
            "grid_column": null,
            "overflow_y": null,
            "overflow_x": null,
            "grid_auto_flow": null,
            "grid_area": null,
            "grid_template_columns": null,
            "flex": null,
            "_model_name": "LayoutModel",
            "justify_items": null,
            "grid_row": null,
            "max_height": null,
            "align_content": null,
            "visibility": null,
            "align_self": null,
            "height": null,
            "min_height": null,
            "padding": null,
            "grid_auto_rows": null,
            "grid_gap": null,
            "max_width": null,
            "order": null,
            "_view_module_version": "1.2.0",
            "grid_template_areas": null,
            "object_position": null,
            "object_fit": null,
            "grid_auto_columns": null,
            "margin": null,
            "display": null,
            "left": null
          }
        },
        "72145d3d444c4718822ab9c6dac1c82e": {
          "model_module": "@jupyter-widgets/controls",
          "model_name": "DescriptionStyleModel",
          "state": {
            "_view_name": "StyleView",
            "_model_name": "DescriptionStyleModel",
            "description_width": "",
            "_view_module": "@jupyter-widgets/base",
            "_model_module_version": "1.5.0",
            "_view_count": null,
            "_view_module_version": "1.2.0",
            "_model_module": "@jupyter-widgets/controls"
          }
        },
        "0836032dfee64c37bced1c593aa2a076": {
          "model_module": "@jupyter-widgets/base",
          "model_name": "LayoutModel",
          "state": {
            "_view_name": "LayoutView",
            "grid_template_rows": null,
            "right": null,
            "justify_content": null,
            "_view_module": "@jupyter-widgets/base",
            "overflow": null,
            "_model_module_version": "1.2.0",
            "_view_count": null,
            "flex_flow": null,
            "width": null,
            "min_width": null,
            "border": null,
            "align_items": null,
            "bottom": null,
            "_model_module": "@jupyter-widgets/base",
            "top": null,
            "grid_column": null,
            "overflow_y": null,
            "overflow_x": null,
            "grid_auto_flow": null,
            "grid_area": null,
            "grid_template_columns": null,
            "flex": null,
            "_model_name": "LayoutModel",
            "justify_items": null,
            "grid_row": null,
            "max_height": null,
            "align_content": null,
            "visibility": null,
            "align_self": null,
            "height": null,
            "min_height": null,
            "padding": null,
            "grid_auto_rows": null,
            "grid_gap": null,
            "max_width": null,
            "order": null,
            "_view_module_version": "1.2.0",
            "grid_template_areas": null,
            "object_position": null,
            "object_fit": null,
            "grid_auto_columns": null,
            "margin": null,
            "display": null,
            "left": null
          }
        },
        "d65b9d7cef15444e8aad63618da1588f": {
          "model_module": "@jupyter-widgets/controls",
          "model_name": "HBoxModel",
          "state": {
            "_view_name": "HBoxView",
            "_dom_classes": [],
            "_model_name": "HBoxModel",
            "_view_module": "@jupyter-widgets/controls",
            "_model_module_version": "1.5.0",
            "_view_count": null,
            "_view_module_version": "1.5.0",
            "box_style": "",
            "layout": "IPY_MODEL_16c0f94c47a14d609cad9d9b5c185729",
            "_model_module": "@jupyter-widgets/controls",
            "children": [
              "IPY_MODEL_feb96b36541e4d0e85e251ef203d404d",
              "IPY_MODEL_30f0e970c6fd4ba88665a7a8bfed92c1"
            ]
          }
        },
        "16c0f94c47a14d609cad9d9b5c185729": {
          "model_module": "@jupyter-widgets/base",
          "model_name": "LayoutModel",
          "state": {
            "_view_name": "LayoutView",
            "grid_template_rows": null,
            "right": null,
            "justify_content": null,
            "_view_module": "@jupyter-widgets/base",
            "overflow": null,
            "_model_module_version": "1.2.0",
            "_view_count": null,
            "flex_flow": null,
            "width": null,
            "min_width": null,
            "border": null,
            "align_items": null,
            "bottom": null,
            "_model_module": "@jupyter-widgets/base",
            "top": null,
            "grid_column": null,
            "overflow_y": null,
            "overflow_x": null,
            "grid_auto_flow": null,
            "grid_area": null,
            "grid_template_columns": null,
            "flex": null,
            "_model_name": "LayoutModel",
            "justify_items": null,
            "grid_row": null,
            "max_height": null,
            "align_content": null,
            "visibility": null,
            "align_self": null,
            "height": null,
            "min_height": null,
            "padding": null,
            "grid_auto_rows": null,
            "grid_gap": null,
            "max_width": null,
            "order": null,
            "_view_module_version": "1.2.0",
            "grid_template_areas": null,
            "object_position": null,
            "object_fit": null,
            "grid_auto_columns": null,
            "margin": null,
            "display": null,
            "left": null
          }
        },
        "feb96b36541e4d0e85e251ef203d404d": {
          "model_module": "@jupyter-widgets/controls",
          "model_name": "FloatProgressModel",
          "state": {
            "_view_name": "ProgressView",
            "style": "IPY_MODEL_deda1f00d80b40ec993235d187b9b191",
            "_dom_classes": [],
            "description": "Downloading: 100%",
            "_model_name": "FloatProgressModel",
            "bar_style": "success",
            "max": 112,
            "_view_module": "@jupyter-widgets/controls",
            "_model_module_version": "1.5.0",
            "value": 112,
            "_view_count": null,
            "_view_module_version": "1.5.0",
            "orientation": "horizontal",
            "min": 0,
            "description_tooltip": null,
            "_model_module": "@jupyter-widgets/controls",
            "layout": "IPY_MODEL_c4c3f8a2be4445a7afe57cab29e150e3"
          }
        },
        "30f0e970c6fd4ba88665a7a8bfed92c1": {
          "model_module": "@jupyter-widgets/controls",
          "model_name": "HTMLModel",
          "state": {
            "_view_name": "HTMLView",
            "style": "IPY_MODEL_1c462f18cc5d4ef3b0f44e5a29b11309",
            "_dom_classes": [],
            "description": "",
            "_model_name": "HTMLModel",
            "placeholder": "​",
            "_view_module": "@jupyter-widgets/controls",
            "_model_module_version": "1.5.0",
            "value": " 112/112 [00:00&lt;00:00, 162B/s]",
            "_view_count": null,
            "_view_module_version": "1.5.0",
            "description_tooltip": null,
            "_model_module": "@jupyter-widgets/controls",
            "layout": "IPY_MODEL_c40787b720d94a38a0fdda3c7091f9e6"
          }
        },
        "deda1f00d80b40ec993235d187b9b191": {
          "model_module": "@jupyter-widgets/controls",
          "model_name": "ProgressStyleModel",
          "state": {
            "_view_name": "StyleView",
            "_model_name": "ProgressStyleModel",
            "description_width": "initial",
            "_view_module": "@jupyter-widgets/base",
            "_model_module_version": "1.5.0",
            "_view_count": null,
            "_view_module_version": "1.2.0",
            "bar_color": null,
            "_model_module": "@jupyter-widgets/controls"
          }
        },
        "c4c3f8a2be4445a7afe57cab29e150e3": {
          "model_module": "@jupyter-widgets/base",
          "model_name": "LayoutModel",
          "state": {
            "_view_name": "LayoutView",
            "grid_template_rows": null,
            "right": null,
            "justify_content": null,
            "_view_module": "@jupyter-widgets/base",
            "overflow": null,
            "_model_module_version": "1.2.0",
            "_view_count": null,
            "flex_flow": null,
            "width": null,
            "min_width": null,
            "border": null,
            "align_items": null,
            "bottom": null,
            "_model_module": "@jupyter-widgets/base",
            "top": null,
            "grid_column": null,
            "overflow_y": null,
            "overflow_x": null,
            "grid_auto_flow": null,
            "grid_area": null,
            "grid_template_columns": null,
            "flex": null,
            "_model_name": "LayoutModel",
            "justify_items": null,
            "grid_row": null,
            "max_height": null,
            "align_content": null,
            "visibility": null,
            "align_self": null,
            "height": null,
            "min_height": null,
            "padding": null,
            "grid_auto_rows": null,
            "grid_gap": null,
            "max_width": null,
            "order": null,
            "_view_module_version": "1.2.0",
            "grid_template_areas": null,
            "object_position": null,
            "object_fit": null,
            "grid_auto_columns": null,
            "margin": null,
            "display": null,
            "left": null
          }
        },
        "1c462f18cc5d4ef3b0f44e5a29b11309": {
          "model_module": "@jupyter-widgets/controls",
          "model_name": "DescriptionStyleModel",
          "state": {
            "_view_name": "StyleView",
            "_model_name": "DescriptionStyleModel",
            "description_width": "",
            "_view_module": "@jupyter-widgets/base",
            "_model_module_version": "1.5.0",
            "_view_count": null,
            "_view_module_version": "1.2.0",
            "_model_module": "@jupyter-widgets/controls"
          }
        },
        "c40787b720d94a38a0fdda3c7091f9e6": {
          "model_module": "@jupyter-widgets/base",
          "model_name": "LayoutModel",
          "state": {
            "_view_name": "LayoutView",
            "grid_template_rows": null,
            "right": null,
            "justify_content": null,
            "_view_module": "@jupyter-widgets/base",
            "overflow": null,
            "_model_module_version": "1.2.0",
            "_view_count": null,
            "flex_flow": null,
            "width": null,
            "min_width": null,
            "border": null,
            "align_items": null,
            "bottom": null,
            "_model_module": "@jupyter-widgets/base",
            "top": null,
            "grid_column": null,
            "overflow_y": null,
            "overflow_x": null,
            "grid_auto_flow": null,
            "grid_area": null,
            "grid_template_columns": null,
            "flex": null,
            "_model_name": "LayoutModel",
            "justify_items": null,
            "grid_row": null,
            "max_height": null,
            "align_content": null,
            "visibility": null,
            "align_self": null,
            "height": null,
            "min_height": null,
            "padding": null,
            "grid_auto_rows": null,
            "grid_gap": null,
            "max_width": null,
            "order": null,
            "_view_module_version": "1.2.0",
            "grid_template_areas": null,
            "object_position": null,
            "object_fit": null,
            "grid_auto_columns": null,
            "margin": null,
            "display": null,
            "left": null
          }
        },
        "5d33de7746664d359649ac60bb73ce94": {
          "model_module": "@jupyter-widgets/controls",
          "model_name": "HBoxModel",
          "state": {
            "_view_name": "HBoxView",
            "_dom_classes": [],
            "_model_name": "HBoxModel",
            "_view_module": "@jupyter-widgets/controls",
            "_model_module_version": "1.5.0",
            "_view_count": null,
            "_view_module_version": "1.5.0",
            "box_style": "",
            "layout": "IPY_MODEL_e02e211443d34fb48cfbc53a9ba5471d",
            "_model_module": "@jupyter-widgets/controls",
            "children": [
              "IPY_MODEL_3b677fa3020e4d57a5f991ca34b2fba7",
              "IPY_MODEL_f94973e77c6f4900b985a32f77d19a46"
            ]
          }
        },
        "e02e211443d34fb48cfbc53a9ba5471d": {
          "model_module": "@jupyter-widgets/base",
          "model_name": "LayoutModel",
          "state": {
            "_view_name": "LayoutView",
            "grid_template_rows": null,
            "right": null,
            "justify_content": null,
            "_view_module": "@jupyter-widgets/base",
            "overflow": null,
            "_model_module_version": "1.2.0",
            "_view_count": null,
            "flex_flow": null,
            "width": null,
            "min_width": null,
            "border": null,
            "align_items": null,
            "bottom": null,
            "_model_module": "@jupyter-widgets/base",
            "top": null,
            "grid_column": null,
            "overflow_y": null,
            "overflow_x": null,
            "grid_auto_flow": null,
            "grid_area": null,
            "grid_template_columns": null,
            "flex": null,
            "_model_name": "LayoutModel",
            "justify_items": null,
            "grid_row": null,
            "max_height": null,
            "align_content": null,
            "visibility": null,
            "align_self": null,
            "height": null,
            "min_height": null,
            "padding": null,
            "grid_auto_rows": null,
            "grid_gap": null,
            "max_width": null,
            "order": null,
            "_view_module_version": "1.2.0",
            "grid_template_areas": null,
            "object_position": null,
            "object_fit": null,
            "grid_auto_columns": null,
            "margin": null,
            "display": null,
            "left": null
          }
        },
        "3b677fa3020e4d57a5f991ca34b2fba7": {
          "model_module": "@jupyter-widgets/controls",
          "model_name": "FloatProgressModel",
          "state": {
            "_view_name": "ProgressView",
            "style": "IPY_MODEL_13703bbfe3c24aed8900de518eaba144",
            "_dom_classes": [],
            "description": "Downloading: 100%",
            "_model_name": "FloatProgressModel",
            "bar_style": "success",
            "max": 358,
            "_view_module": "@jupyter-widgets/controls",
            "_model_module_version": "1.5.0",
            "value": 358,
            "_view_count": null,
            "_view_module_version": "1.5.0",
            "orientation": "horizontal",
            "min": 0,
            "description_tooltip": null,
            "_model_module": "@jupyter-widgets/controls",
            "layout": "IPY_MODEL_1c439179ee4143e0b5022225a19e721b"
          }
        },
        "f94973e77c6f4900b985a32f77d19a46": {
          "model_module": "@jupyter-widgets/controls",
          "model_name": "HTMLModel",
          "state": {
            "_view_name": "HTMLView",
            "style": "IPY_MODEL_f567770dcebf471aa84d34833ae4f05d",
            "_dom_classes": [],
            "description": "",
            "_model_name": "HTMLModel",
            "placeholder": "​",
            "_view_module": "@jupyter-widgets/controls",
            "_model_module_version": "1.5.0",
            "value": " 358/358 [00:00&lt;00:00, 5.11kB/s]",
            "_view_count": null,
            "_view_module_version": "1.5.0",
            "description_tooltip": null,
            "_model_module": "@jupyter-widgets/controls",
            "layout": "IPY_MODEL_87f95e06158c48b9a4fbee820164c432"
          }
        },
        "13703bbfe3c24aed8900de518eaba144": {
          "model_module": "@jupyter-widgets/controls",
          "model_name": "ProgressStyleModel",
          "state": {
            "_view_name": "StyleView",
            "_model_name": "ProgressStyleModel",
            "description_width": "initial",
            "_view_module": "@jupyter-widgets/base",
            "_model_module_version": "1.5.0",
            "_view_count": null,
            "_view_module_version": "1.2.0",
            "bar_color": null,
            "_model_module": "@jupyter-widgets/controls"
          }
        },
        "1c439179ee4143e0b5022225a19e721b": {
          "model_module": "@jupyter-widgets/base",
          "model_name": "LayoutModel",
          "state": {
            "_view_name": "LayoutView",
            "grid_template_rows": null,
            "right": null,
            "justify_content": null,
            "_view_module": "@jupyter-widgets/base",
            "overflow": null,
            "_model_module_version": "1.2.0",
            "_view_count": null,
            "flex_flow": null,
            "width": null,
            "min_width": null,
            "border": null,
            "align_items": null,
            "bottom": null,
            "_model_module": "@jupyter-widgets/base",
            "top": null,
            "grid_column": null,
            "overflow_y": null,
            "overflow_x": null,
            "grid_auto_flow": null,
            "grid_area": null,
            "grid_template_columns": null,
            "flex": null,
            "_model_name": "LayoutModel",
            "justify_items": null,
            "grid_row": null,
            "max_height": null,
            "align_content": null,
            "visibility": null,
            "align_self": null,
            "height": null,
            "min_height": null,
            "padding": null,
            "grid_auto_rows": null,
            "grid_gap": null,
            "max_width": null,
            "order": null,
            "_view_module_version": "1.2.0",
            "grid_template_areas": null,
            "object_position": null,
            "object_fit": null,
            "grid_auto_columns": null,
            "margin": null,
            "display": null,
            "left": null
          }
        },
        "f567770dcebf471aa84d34833ae4f05d": {
          "model_module": "@jupyter-widgets/controls",
          "model_name": "DescriptionStyleModel",
          "state": {
            "_view_name": "StyleView",
            "_model_name": "DescriptionStyleModel",
            "description_width": "",
            "_view_module": "@jupyter-widgets/base",
            "_model_module_version": "1.5.0",
            "_view_count": null,
            "_view_module_version": "1.2.0",
            "_model_module": "@jupyter-widgets/controls"
          }
        },
        "87f95e06158c48b9a4fbee820164c432": {
          "model_module": "@jupyter-widgets/base",
          "model_name": "LayoutModel",
          "state": {
            "_view_name": "LayoutView",
            "grid_template_rows": null,
            "right": null,
            "justify_content": null,
            "_view_module": "@jupyter-widgets/base",
            "overflow": null,
            "_model_module_version": "1.2.0",
            "_view_count": null,
            "flex_flow": null,
            "width": null,
            "min_width": null,
            "border": null,
            "align_items": null,
            "bottom": null,
            "_model_module": "@jupyter-widgets/base",
            "top": null,
            "grid_column": null,
            "overflow_y": null,
            "overflow_x": null,
            "grid_auto_flow": null,
            "grid_area": null,
            "grid_template_columns": null,
            "flex": null,
            "_model_name": "LayoutModel",
            "justify_items": null,
            "grid_row": null,
            "max_height": null,
            "align_content": null,
            "visibility": null,
            "align_self": null,
            "height": null,
            "min_height": null,
            "padding": null,
            "grid_auto_rows": null,
            "grid_gap": null,
            "max_width": null,
            "order": null,
            "_view_module_version": "1.2.0",
            "grid_template_areas": null,
            "object_position": null,
            "object_fit": null,
            "grid_auto_columns": null,
            "margin": null,
            "display": null,
            "left": null
          }
        },
        "503bc22bd9a64eceb795912a9beb734c": {
          "model_module": "@jupyter-widgets/controls",
          "model_name": "HBoxModel",
          "state": {
            "_view_name": "HBoxView",
            "_dom_classes": [],
            "_model_name": "HBoxModel",
            "_view_module": "@jupyter-widgets/controls",
            "_model_module_version": "1.5.0",
            "_view_count": null,
            "_view_module_version": "1.5.0",
            "box_style": "",
            "layout": "IPY_MODEL_b0850c8e1a7f4d6cbc982dbdd5eff93b",
            "_model_module": "@jupyter-widgets/controls",
            "children": [
              "IPY_MODEL_599db18965d845678a6a2b88ac0d38c2",
              "IPY_MODEL_18631affa7044d7ca705ca5390d04ae2"
            ]
          }
        },
        "b0850c8e1a7f4d6cbc982dbdd5eff93b": {
          "model_module": "@jupyter-widgets/base",
          "model_name": "LayoutModel",
          "state": {
            "_view_name": "LayoutView",
            "grid_template_rows": null,
            "right": null,
            "justify_content": null,
            "_view_module": "@jupyter-widgets/base",
            "overflow": null,
            "_model_module_version": "1.2.0",
            "_view_count": null,
            "flex_flow": null,
            "width": null,
            "min_width": null,
            "border": null,
            "align_items": null,
            "bottom": null,
            "_model_module": "@jupyter-widgets/base",
            "top": null,
            "grid_column": null,
            "overflow_y": null,
            "overflow_x": null,
            "grid_auto_flow": null,
            "grid_area": null,
            "grid_template_columns": null,
            "flex": null,
            "_model_name": "LayoutModel",
            "justify_items": null,
            "grid_row": null,
            "max_height": null,
            "align_content": null,
            "visibility": null,
            "align_self": null,
            "height": null,
            "min_height": null,
            "padding": null,
            "grid_auto_rows": null,
            "grid_gap": null,
            "max_width": null,
            "order": null,
            "_view_module_version": "1.2.0",
            "grid_template_areas": null,
            "object_position": null,
            "object_fit": null,
            "grid_auto_columns": null,
            "margin": null,
            "display": null,
            "left": null
          }
        },
        "599db18965d845678a6a2b88ac0d38c2": {
          "model_module": "@jupyter-widgets/controls",
          "model_name": "FloatProgressModel",
          "state": {
            "_view_name": "ProgressView",
            "style": "IPY_MODEL_cdefb3f947594a56aef099b3bae0ab66",
            "_dom_classes": [],
            "description": "Downloading: 100%",
            "_model_name": "FloatProgressModel",
            "bar_style": "success",
            "max": 437441463,
            "_view_module": "@jupyter-widgets/controls",
            "_model_module_version": "1.5.0",
            "value": 437441463,
            "_view_count": null,
            "_view_module_version": "1.5.0",
            "orientation": "horizontal",
            "min": 0,
            "description_tooltip": null,
            "_model_module": "@jupyter-widgets/controls",
            "layout": "IPY_MODEL_cd408ba2d3e04b45ac742b1bfddf951a"
          }
        },
        "18631affa7044d7ca705ca5390d04ae2": {
          "model_module": "@jupyter-widgets/controls",
          "model_name": "HTMLModel",
          "state": {
            "_view_name": "HTMLView",
            "style": "IPY_MODEL_33ece2ee3ab5426cb39f592637b2ca51",
            "_dom_classes": [],
            "description": "",
            "_model_name": "HTMLModel",
            "placeholder": "​",
            "_view_module": "@jupyter-widgets/controls",
            "_model_module_version": "1.5.0",
            "value": " 437M/437M [00:10&lt;00:00, 39.8MB/s]",
            "_view_count": null,
            "_view_module_version": "1.5.0",
            "description_tooltip": null,
            "_model_module": "@jupyter-widgets/controls",
            "layout": "IPY_MODEL_44b675def02e4e0a8c4ab93543228aa5"
          }
        },
        "cdefb3f947594a56aef099b3bae0ab66": {
          "model_module": "@jupyter-widgets/controls",
          "model_name": "ProgressStyleModel",
          "state": {
            "_view_name": "StyleView",
            "_model_name": "ProgressStyleModel",
            "description_width": "initial",
            "_view_module": "@jupyter-widgets/base",
            "_model_module_version": "1.5.0",
            "_view_count": null,
            "_view_module_version": "1.2.0",
            "bar_color": null,
            "_model_module": "@jupyter-widgets/controls"
          }
        },
        "cd408ba2d3e04b45ac742b1bfddf951a": {
          "model_module": "@jupyter-widgets/base",
          "model_name": "LayoutModel",
          "state": {
            "_view_name": "LayoutView",
            "grid_template_rows": null,
            "right": null,
            "justify_content": null,
            "_view_module": "@jupyter-widgets/base",
            "overflow": null,
            "_model_module_version": "1.2.0",
            "_view_count": null,
            "flex_flow": null,
            "width": null,
            "min_width": null,
            "border": null,
            "align_items": null,
            "bottom": null,
            "_model_module": "@jupyter-widgets/base",
            "top": null,
            "grid_column": null,
            "overflow_y": null,
            "overflow_x": null,
            "grid_auto_flow": null,
            "grid_area": null,
            "grid_template_columns": null,
            "flex": null,
            "_model_name": "LayoutModel",
            "justify_items": null,
            "grid_row": null,
            "max_height": null,
            "align_content": null,
            "visibility": null,
            "align_self": null,
            "height": null,
            "min_height": null,
            "padding": null,
            "grid_auto_rows": null,
            "grid_gap": null,
            "max_width": null,
            "order": null,
            "_view_module_version": "1.2.0",
            "grid_template_areas": null,
            "object_position": null,
            "object_fit": null,
            "grid_auto_columns": null,
            "margin": null,
            "display": null,
            "left": null
          }
        },
        "33ece2ee3ab5426cb39f592637b2ca51": {
          "model_module": "@jupyter-widgets/controls",
          "model_name": "DescriptionStyleModel",
          "state": {
            "_view_name": "StyleView",
            "_model_name": "DescriptionStyleModel",
            "description_width": "",
            "_view_module": "@jupyter-widgets/base",
            "_model_module_version": "1.5.0",
            "_view_count": null,
            "_view_module_version": "1.2.0",
            "_model_module": "@jupyter-widgets/controls"
          }
        },
        "44b675def02e4e0a8c4ab93543228aa5": {
          "model_module": "@jupyter-widgets/base",
          "model_name": "LayoutModel",
          "state": {
            "_view_name": "LayoutView",
            "grid_template_rows": null,
            "right": null,
            "justify_content": null,
            "_view_module": "@jupyter-widgets/base",
            "overflow": null,
            "_model_module_version": "1.2.0",
            "_view_count": null,
            "flex_flow": null,
            "width": null,
            "min_width": null,
            "border": null,
            "align_items": null,
            "bottom": null,
            "_model_module": "@jupyter-widgets/base",
            "top": null,
            "grid_column": null,
            "overflow_y": null,
            "overflow_x": null,
            "grid_auto_flow": null,
            "grid_area": null,
            "grid_template_columns": null,
            "flex": null,
            "_model_name": "LayoutModel",
            "justify_items": null,
            "grid_row": null,
            "max_height": null,
            "align_content": null,
            "visibility": null,
            "align_self": null,
            "height": null,
            "min_height": null,
            "padding": null,
            "grid_auto_rows": null,
            "grid_gap": null,
            "max_width": null,
            "order": null,
            "_view_module_version": "1.2.0",
            "grid_template_areas": null,
            "object_position": null,
            "object_fit": null,
            "grid_auto_columns": null,
            "margin": null,
            "display": null,
            "left": null
          }
        }
      }
    }
  },
  "cells": [
    {
      "cell_type": "markdown",
      "metadata": {
        "id": "view-in-github",
        "colab_type": "text"
      },
      "source": [
        "<a href=\"https://colab.research.google.com/github/jansoe/dl_workshop/blob/main/Squad_wt_Transformers_v2.ipynb\" target=\"_parent\"><img src=\"https://colab.research.google.com/assets/colab-badge.svg\" alt=\"Open In Colab\"/></a>"
      ]
    },
    {
      "cell_type": "markdown",
      "metadata": {
        "id": "tE0jsYnzbuKm"
      },
      "source": [
        "# Pretrained SQuAD Transformer\n"
      ]
    },
    {
      "cell_type": "code",
      "metadata": {
        "id": "ZVGK8-h3KAAM",
        "colab": {
          "base_uri": "https://localhost:8080/"
        },
        "outputId": "2de4beb9-887c-4781-b81a-40c0712e9562"
      },
      "source": [
        "!pip install transformers\n",
        "!pip install datasets"
      ],
      "execution_count": 1,
      "outputs": [
        {
          "output_type": "stream",
          "text": [
            "Collecting transformers\n",
            "\u001b[?25l  Downloading https://files.pythonhosted.org/packages/00/92/6153f4912b84ee1ab53ab45663d23e7cf3704161cb5ef18b0c07e207cef2/transformers-4.7.0-py3-none-any.whl (2.5MB)\n",
            "\u001b[K     |████████████████████████████████| 2.5MB 9.6MB/s \n",
            "\u001b[?25hRequirement already satisfied: numpy>=1.17 in /usr/local/lib/python3.7/dist-packages (from transformers) (1.19.5)\n",
            "Requirement already satisfied: pyyaml in /usr/local/lib/python3.7/dist-packages (from transformers) (3.13)\n",
            "Requirement already satisfied: importlib-metadata; python_version < \"3.8\" in /usr/local/lib/python3.7/dist-packages (from transformers) (4.5.0)\n",
            "Collecting huggingface-hub==0.0.8\n",
            "  Downloading https://files.pythonhosted.org/packages/a1/88/7b1e45720ecf59c6c6737ff332f41c955963090a18e72acbcbeac6b25e86/huggingface_hub-0.0.8-py3-none-any.whl\n",
            "Requirement already satisfied: tqdm>=4.27 in /usr/local/lib/python3.7/dist-packages (from transformers) (4.41.1)\n",
            "Requirement already satisfied: filelock in /usr/local/lib/python3.7/dist-packages (from transformers) (3.0.12)\n",
            "Requirement already satisfied: requests in /usr/local/lib/python3.7/dist-packages (from transformers) (2.23.0)\n",
            "Requirement already satisfied: regex!=2019.12.17 in /usr/local/lib/python3.7/dist-packages (from transformers) (2019.12.20)\n",
            "Collecting tokenizers<0.11,>=0.10.1\n",
            "\u001b[?25l  Downloading https://files.pythonhosted.org/packages/d4/e2/df3543e8ffdab68f5acc73f613de9c2b155ac47f162e725dcac87c521c11/tokenizers-0.10.3-cp37-cp37m-manylinux_2_5_x86_64.manylinux1_x86_64.manylinux_2_12_x86_64.manylinux2010_x86_64.whl (3.3MB)\n",
            "\u001b[K     |████████████████████████████████| 3.3MB 48.0MB/s \n",
            "\u001b[?25hCollecting sacremoses\n",
            "\u001b[?25l  Downloading https://files.pythonhosted.org/packages/75/ee/67241dc87f266093c533a2d4d3d69438e57d7a90abb216fa076e7d475d4a/sacremoses-0.0.45-py3-none-any.whl (895kB)\n",
            "\u001b[K     |████████████████████████████████| 901kB 47.8MB/s \n",
            "\u001b[?25hRequirement already satisfied: packaging in /usr/local/lib/python3.7/dist-packages (from transformers) (20.9)\n",
            "Requirement already satisfied: typing-extensions>=3.6.4; python_version < \"3.8\" in /usr/local/lib/python3.7/dist-packages (from importlib-metadata; python_version < \"3.8\"->transformers) (3.7.4.3)\n",
            "Requirement already satisfied: zipp>=0.5 in /usr/local/lib/python3.7/dist-packages (from importlib-metadata; python_version < \"3.8\"->transformers) (3.4.1)\n",
            "Requirement already satisfied: idna<3,>=2.5 in /usr/local/lib/python3.7/dist-packages (from requests->transformers) (2.10)\n",
            "Requirement already satisfied: certifi>=2017.4.17 in /usr/local/lib/python3.7/dist-packages (from requests->transformers) (2021.5.30)\n",
            "Requirement already satisfied: urllib3!=1.25.0,!=1.25.1,<1.26,>=1.21.1 in /usr/local/lib/python3.7/dist-packages (from requests->transformers) (1.24.3)\n",
            "Requirement already satisfied: chardet<4,>=3.0.2 in /usr/local/lib/python3.7/dist-packages (from requests->transformers) (3.0.4)\n",
            "Requirement already satisfied: six in /usr/local/lib/python3.7/dist-packages (from sacremoses->transformers) (1.15.0)\n",
            "Requirement already satisfied: joblib in /usr/local/lib/python3.7/dist-packages (from sacremoses->transformers) (1.0.1)\n",
            "Requirement already satisfied: click in /usr/local/lib/python3.7/dist-packages (from sacremoses->transformers) (7.1.2)\n",
            "Requirement already satisfied: pyparsing>=2.0.2 in /usr/local/lib/python3.7/dist-packages (from packaging->transformers) (2.4.7)\n",
            "Installing collected packages: huggingface-hub, tokenizers, sacremoses, transformers\n",
            "Successfully installed huggingface-hub-0.0.8 sacremoses-0.0.45 tokenizers-0.10.3 transformers-4.7.0\n",
            "Collecting datasets\n",
            "\u001b[?25l  Downloading https://files.pythonhosted.org/packages/08/a2/d4e1024c891506e1cee8f9d719d20831bac31cb5b7416983c4d2f65a6287/datasets-1.8.0-py3-none-any.whl (237kB)\n",
            "\u001b[K     |████████████████████████████████| 245kB 7.7MB/s \n",
            "\u001b[?25hRequirement already satisfied: packaging in /usr/local/lib/python3.7/dist-packages (from datasets) (20.9)\n",
            "Requirement already satisfied: tqdm<4.50.0,>=4.27 in /usr/local/lib/python3.7/dist-packages (from datasets) (4.41.1)\n",
            "Requirement already satisfied: requests>=2.19.0 in /usr/local/lib/python3.7/dist-packages (from datasets) (2.23.0)\n",
            "Collecting fsspec\n",
            "\u001b[?25l  Downloading https://files.pythonhosted.org/packages/8e/d2/d05466997f7751a2c06a7a416b7d1f131d765f7916698d3fdcb3a4d037e5/fsspec-2021.6.0-py3-none-any.whl (114kB)\n",
            "\u001b[K     |████████████████████████████████| 122kB 26.8MB/s \n",
            "\u001b[?25hRequirement already satisfied: pandas in /usr/local/lib/python3.7/dist-packages (from datasets) (1.1.5)\n",
            "Requirement already satisfied: numpy>=1.17 in /usr/local/lib/python3.7/dist-packages (from datasets) (1.19.5)\n",
            "Collecting xxhash\n",
            "\u001b[?25l  Downloading https://files.pythonhosted.org/packages/7d/4f/0a862cad26aa2ed7a7cd87178cbbfa824fc1383e472d63596a0d018374e7/xxhash-2.0.2-cp37-cp37m-manylinux2010_x86_64.whl (243kB)\n",
            "\u001b[K     |████████████████████████████████| 245kB 20.2MB/s \n",
            "\u001b[?25hRequirement already satisfied: importlib-metadata; python_version < \"3.8\" in /usr/local/lib/python3.7/dist-packages (from datasets) (4.5.0)\n",
            "Requirement already satisfied: huggingface-hub<0.1.0 in /usr/local/lib/python3.7/dist-packages (from datasets) (0.0.8)\n",
            "Requirement already satisfied: multiprocess in /usr/local/lib/python3.7/dist-packages (from datasets) (0.70.12.2)\n",
            "Requirement already satisfied: dill in /usr/local/lib/python3.7/dist-packages (from datasets) (0.3.4)\n",
            "Requirement already satisfied: pyarrow<4.0.0,>=1.0.0 in /usr/local/lib/python3.7/dist-packages (from datasets) (3.0.0)\n",
            "Requirement already satisfied: pyparsing>=2.0.2 in /usr/local/lib/python3.7/dist-packages (from packaging->datasets) (2.4.7)\n",
            "Requirement already satisfied: certifi>=2017.4.17 in /usr/local/lib/python3.7/dist-packages (from requests>=2.19.0->datasets) (2021.5.30)\n",
            "Requirement already satisfied: urllib3!=1.25.0,!=1.25.1,<1.26,>=1.21.1 in /usr/local/lib/python3.7/dist-packages (from requests>=2.19.0->datasets) (1.24.3)\n",
            "Requirement already satisfied: idna<3,>=2.5 in /usr/local/lib/python3.7/dist-packages (from requests>=2.19.0->datasets) (2.10)\n",
            "Requirement already satisfied: chardet<4,>=3.0.2 in /usr/local/lib/python3.7/dist-packages (from requests>=2.19.0->datasets) (3.0.4)\n",
            "Requirement already satisfied: pytz>=2017.2 in /usr/local/lib/python3.7/dist-packages (from pandas->datasets) (2018.9)\n",
            "Requirement already satisfied: python-dateutil>=2.7.3 in /usr/local/lib/python3.7/dist-packages (from pandas->datasets) (2.8.1)\n",
            "Requirement already satisfied: typing-extensions>=3.6.4; python_version < \"3.8\" in /usr/local/lib/python3.7/dist-packages (from importlib-metadata; python_version < \"3.8\"->datasets) (3.7.4.3)\n",
            "Requirement already satisfied: zipp>=0.5 in /usr/local/lib/python3.7/dist-packages (from importlib-metadata; python_version < \"3.8\"->datasets) (3.4.1)\n",
            "Requirement already satisfied: filelock in /usr/local/lib/python3.7/dist-packages (from huggingface-hub<0.1.0->datasets) (3.0.12)\n",
            "Requirement already satisfied: six>=1.5 in /usr/local/lib/python3.7/dist-packages (from python-dateutil>=2.7.3->pandas->datasets) (1.15.0)\n",
            "Installing collected packages: fsspec, xxhash, datasets\n",
            "Successfully installed datasets-1.8.0 fsspec-2021.6.0 xxhash-2.0.2\n"
          ],
          "name": "stdout"
        }
      ]
    },
    {
      "cell_type": "code",
      "metadata": {
        "id": "KLQqNxFsJ6AO"
      },
      "source": [
        "from pprint import pprint\n",
        "import os\n",
        "import torch\n",
        "import torch.utils.data as datatools\n",
        "import transformers"
      ],
      "execution_count": 2,
      "outputs": []
    },
    {
      "cell_type": "markdown",
      "metadata": {
        "id": "Lb38rGFOad6B"
      },
      "source": [
        "Sollten Sie Interesse daran haben, welche Hardware Ihnen von Google zur Verfügung gestellt wird, können Sie die folgende Code-Zelle ausführen."
      ]
    },
    {
      "cell_type": "code",
      "metadata": {
        "id": "R8FcYJlq5-qJ",
        "colab": {
          "base_uri": "https://localhost:8080/",
          "height": 35
        },
        "outputId": "3f63fb1b-2789-4f29-a66c-e83f3d25cf19"
      },
      "source": [
        "torch.cuda.get_device_name()"
      ],
      "execution_count": 3,
      "outputs": [
        {
          "output_type": "execute_result",
          "data": {
            "application/vnd.google.colaboratory.intrinsic+json": {
              "type": "string"
            },
            "text/plain": [
              "'Tesla T4'"
            ]
          },
          "metadata": {
            "tags": []
          },
          "execution_count": 3
        }
      ]
    },
    {
      "cell_type": "markdown",
      "metadata": {
        "id": "bbspcRhJb-i6"
      },
      "source": [
        "##  Model"
      ]
    },
    {
      "cell_type": "code",
      "metadata": {
        "id": "zhRFO0Xma4Cv",
        "colab": {
          "base_uri": "https://localhost:8080/",
          "height": 264,
          "referenced_widgets": [
            "bf84df533bf943ea858257e761ae978a",
            "af1dfcdbc8f24b85998025fbb9b04839",
            "0d2d8ccce2814684a9a1a0a72a7a9f04",
            "ea2e841644254c23884ca1d17d3442bc",
            "2dede8f01499407585b4a544d6765088",
            "e0ef6c5c727845de9a7aeda877470093",
            "99d503dd102a47c3bf55527fba492fc8",
            "efbf079376524284a0848310424c5577",
            "a369914552e246278a0deb6d940edd5c",
            "c4cd2f6de209455d9b3d04a1692c53b2",
            "1129eb9d506c4249b2005de396e56e99",
            "74b33e4bd38742f98b4324ec38b8dab6",
            "31944a4f1b014011877c75132c7849b0",
            "838a4f78693f41e2b6ee9ee96333281f",
            "72145d3d444c4718822ab9c6dac1c82e",
            "0836032dfee64c37bced1c593aa2a076",
            "d65b9d7cef15444e8aad63618da1588f",
            "16c0f94c47a14d609cad9d9b5c185729",
            "feb96b36541e4d0e85e251ef203d404d",
            "30f0e970c6fd4ba88665a7a8bfed92c1",
            "deda1f00d80b40ec993235d187b9b191",
            "c4c3f8a2be4445a7afe57cab29e150e3",
            "1c462f18cc5d4ef3b0f44e5a29b11309",
            "c40787b720d94a38a0fdda3c7091f9e6",
            "5d33de7746664d359649ac60bb73ce94",
            "e02e211443d34fb48cfbc53a9ba5471d",
            "3b677fa3020e4d57a5f991ca34b2fba7",
            "f94973e77c6f4900b985a32f77d19a46",
            "13703bbfe3c24aed8900de518eaba144",
            "1c439179ee4143e0b5022225a19e721b",
            "f567770dcebf471aa84d34833ae4f05d",
            "87f95e06158c48b9a4fbee820164c432",
            "503bc22bd9a64eceb795912a9beb734c",
            "b0850c8e1a7f4d6cbc982dbdd5eff93b",
            "599db18965d845678a6a2b88ac0d38c2",
            "18631affa7044d7ca705ca5390d04ae2",
            "cdefb3f947594a56aef099b3bae0ab66",
            "cd408ba2d3e04b45ac742b1bfddf951a",
            "33ece2ee3ab5426cb39f592637b2ca51",
            "44b675def02e4e0a8c4ab93543228aa5"
          ]
        },
        "outputId": "23bb2f20-7726-448b-a31e-44ec75c40a4e"
      },
      "source": [
        "# model_name_or_path = 'distilbert-base-uncased-distilled-squad' \n",
        "# model_name_or_path = 'bert-large-uncased-whole-word-masking-finetuned-squad'\n",
        "model_name_or_path = 'deepset/gelectra-base-germanquad'\n",
        "\n",
        "tokenizer = transformers.AutoTokenizer.from_pretrained(model_name_or_path)\n",
        "model = transformers.AutoModelForQuestionAnswering.from_pretrained(model_name_or_path)"
      ],
      "execution_count": 7,
      "outputs": [
        {
          "output_type": "display_data",
          "data": {
            "application/vnd.jupyter.widget-view+json": {
              "model_id": "bf84df533bf943ea858257e761ae978a",
              "version_minor": 0,
              "version_major": 2
            },
            "text/plain": [
              "HBox(children=(FloatProgress(value=0.0, description='Downloading', max=740.0, style=ProgressStyle(description_…"
            ]
          },
          "metadata": {
            "tags": []
          }
        },
        {
          "output_type": "stream",
          "text": [
            "\n"
          ],
          "name": "stdout"
        },
        {
          "output_type": "display_data",
          "data": {
            "application/vnd.jupyter.widget-view+json": {
              "model_id": "a369914552e246278a0deb6d940edd5c",
              "version_minor": 0,
              "version_major": 2
            },
            "text/plain": [
              "HBox(children=(FloatProgress(value=0.0, description='Downloading', max=239836.0, style=ProgressStyle(descripti…"
            ]
          },
          "metadata": {
            "tags": []
          }
        },
        {
          "output_type": "stream",
          "text": [
            "\n"
          ],
          "name": "stdout"
        },
        {
          "output_type": "display_data",
          "data": {
            "application/vnd.jupyter.widget-view+json": {
              "model_id": "d65b9d7cef15444e8aad63618da1588f",
              "version_minor": 0,
              "version_major": 2
            },
            "text/plain": [
              "HBox(children=(FloatProgress(value=0.0, description='Downloading', max=112.0, style=ProgressStyle(description_…"
            ]
          },
          "metadata": {
            "tags": []
          }
        },
        {
          "output_type": "stream",
          "text": [
            "\n"
          ],
          "name": "stdout"
        },
        {
          "output_type": "display_data",
          "data": {
            "application/vnd.jupyter.widget-view+json": {
              "model_id": "5d33de7746664d359649ac60bb73ce94",
              "version_minor": 0,
              "version_major": 2
            },
            "text/plain": [
              "HBox(children=(FloatProgress(value=0.0, description='Downloading', max=358.0, style=ProgressStyle(description_…"
            ]
          },
          "metadata": {
            "tags": []
          }
        },
        {
          "output_type": "stream",
          "text": [
            "\n"
          ],
          "name": "stdout"
        },
        {
          "output_type": "display_data",
          "data": {
            "application/vnd.jupyter.widget-view+json": {
              "model_id": "503bc22bd9a64eceb795912a9beb734c",
              "version_minor": 0,
              "version_major": 2
            },
            "text/plain": [
              "HBox(children=(FloatProgress(value=0.0, description='Downloading', max=437441463.0, style=ProgressStyle(descri…"
            ]
          },
          "metadata": {
            "tags": []
          }
        },
        {
          "output_type": "stream",
          "text": [
            "\n"
          ],
          "name": "stdout"
        }
      ]
    },
    {
      "cell_type": "code",
      "metadata": {
        "id": "fj5ZJOrBEdWQ",
        "outputId": "90664732-2427-4721-ef84-3652e0fcecfb",
        "colab": {
          "base_uri": "https://localhost:8080/"
        }
      },
      "source": [
        "tokenizer.tokenize('This is a test of the tokenizer')"
      ],
      "execution_count": 8,
      "outputs": [
        {
          "output_type": "execute_result",
          "data": {
            "text/plain": [
              "['This', 'is', 'a', 'test', 'of', 'the', 'to', '##ken', '##izer']"
            ]
          },
          "metadata": {
            "tags": []
          },
          "execution_count": 8
        }
      ]
    },
    {
      "cell_type": "code",
      "metadata": {
        "id": "NVeiJvIYE4Oo",
        "outputId": "354dc9b7-54d0-4977-d68e-4c1c696fbe5e",
        "colab": {
          "base_uri": "https://localhost:8080/"
        }
      },
      "source": [
        "tokenizer.tokenize('Was passiert mit einem deutschen Satz und einer Wortzusammensetzung')"
      ],
      "execution_count": 11,
      "outputs": [
        {
          "output_type": "execute_result",
          "data": {
            "text/plain": [
              "['Was',\n",
              " 'passiert',\n",
              " 'mit',\n",
              " 'einem',\n",
              " 'deutschen',\n",
              " 'Satz',\n",
              " 'und',\n",
              " 'einer',\n",
              " 'Wort',\n",
              " '##zusammen',\n",
              " '##setzung']"
            ]
          },
          "metadata": {
            "tags": []
          },
          "execution_count": 11
        }
      ]
    },
    {
      "cell_type": "markdown",
      "metadata": {
        "id": "TFuAVHqPFC6n"
      },
      "source": [
        "##  Inference"
      ]
    },
    {
      "cell_type": "code",
      "metadata": {
        "id": "C4W7UW-MG_G1"
      },
      "source": [
        "context = \"\"\"\\\n",
        "The Rhine (Romansh: Rein, German: Rhein, French: le Rhin, Dutch: Rijn) \\\n",
        "is a European river that begins in the Swiss canton of Graubünden in the southeastern Swiss Alps, \\\n",
        "forms part of the Swiss-Austrian, Swiss-Liechtenstein border, Swiss-German and then the Franco-German border, \\\n",
        "then flows through the Rhineland and eventually empties into the North Sea in the Netherlands. \\\n",
        "The biggest city on the river Rhine is Cologne, Germany with a population of more than 1,050,000 people. \\\n",
        "It is the second-longest river in Central and Western Europe (after the Danube), at about 1,230 km (760 mi),\\\n",
        "[note 2][note 1] with an average discharge of about 2,900 m3/s (100,000 cu ft/s).\\\n",
        "\"\"\"\n",
        "\n",
        "question =  \"Where does the Rhine begin?\"\n",
        "# question = \"What is the largest city the Rhine runs through? \"\n",
        "# question = \"What river is larger than the Rhine?\""
      ],
      "execution_count": 15,
      "outputs": []
    },
    {
      "cell_type": "markdown",
      "metadata": {
        "id": "N3M83F1gHkOP"
      },
      "source": [
        "#### Tokenize input"
      ]
    },
    {
      "cell_type": "code",
      "metadata": {
        "id": "dTYpbl1TG7Nv",
        "outputId": "ff30aeda-c921-4d24-ccbc-0d2fd896a32f",
        "colab": {
          "base_uri": "https://localhost:8080/"
        }
      },
      "source": [
        "inputs = tokenizer.encode_plus(\n",
        "    question, \n",
        "    context, \n",
        "    return_attention_mask = False, \n",
        "    return_tensors = 'pt',\n",
        "    return_token_type_ids = not('distilbert' in model_name_or_path) \n",
        ")\n",
        "\n",
        "inputs"
      ],
      "execution_count": 16,
      "outputs": [
        {
          "output_type": "execute_result",
          "data": {
            "text/plain": [
              "{'input_ids': tensor([[  102,  5376,  1056,  5601,   115,   871, 11025,   844,   972,   113,\n",
              "          1992,   103,   996, 11025,   844,   201, 27461, 30889,   853,  4169,\n",
              "           818,  5019,   853,  3774,   818, 24917,   853,  1997, 11025,   113,\n",
              "           818,   840, 24577, 30889,   853, 11078, 15116,  2530,  1420,   120,\n",
              "         11225,  9710,   289,  6711,   972,  2234,   153,   871, 20545,  9051,\n",
              "          4659,   917, 30567,  4178, 21081, 30882,   153,   871,   262,  3212,\n",
              "         12032,  7698, 20545, 12706, 30886,   818,  2801, 30886, 10818,   917,\n",
              "           871, 20545,   232, 17313, 30882,   818, 20545,   232, 21177,  7732,\n",
              "          7632,   105,   818, 20545,   232,  5019,  1257,   871, 30882,   871,\n",
              "         24810,   232,  5019,  7732,  7632,   105,   818,   871, 30882, 13991,\n",
              "          6186, 16453, 18183,   871, 11025,   844,   492,  1257, 10172,  7785,\n",
              "          2241, 17400,   185,   115, 26378,   871,  9536, 25143,   153,   871,\n",
              "          8878,   452,  4690,   566,   996,  7104, 21952,   112, 27128,  1158,\n",
              "           871,  9710,   289, 11025,   844,  1420,  4525, 25473,   818,  8079,\n",
              "          5470,   120, 12135,   301,   917, 12772, 25431,   164,   818,  2996,\n",
              "         30911,   818,  3080, 16294,   566,  1547,  1420,   871,  6331,  1249,\n",
              "           232, 29804,   331,  9710,   289,   153, 15424,  1257, 14800,  7408,\n",
              "           201, 25316,   871,  1476,  7284,  2530,   818,  2942, 12982,   164,\n",
              "           818, 16016,  1516,   201, 12399, 30911,  5095,  2530,   818,  1478,\n",
              "          1760, 30881,   197,  3429,  1478,  1760, 30881,   164,  3429,  5470,\n",
              "           208, 18193, 14413,   124,  9171, 12477,   124,   917, 12982,   197,\n",
              "           818, 12339,   145, 30935,  1061,   117,   201,  1878,   818,  3080,\n",
              "         19982, 14167,  1061,   117,  2530,   566,   103]]), 'token_type_ids': tensor([[0, 0, 0, 0, 0, 0, 0, 0, 0, 0, 0, 0, 1, 1, 1, 1, 1, 1, 1, 1, 1, 1, 1, 1,\n",
              "         1, 1, 1, 1, 1, 1, 1, 1, 1, 1, 1, 1, 1, 1, 1, 1, 1, 1, 1, 1, 1, 1, 1, 1,\n",
              "         1, 1, 1, 1, 1, 1, 1, 1, 1, 1, 1, 1, 1, 1, 1, 1, 1, 1, 1, 1, 1, 1, 1, 1,\n",
              "         1, 1, 1, 1, 1, 1, 1, 1, 1, 1, 1, 1, 1, 1, 1, 1, 1, 1, 1, 1, 1, 1, 1, 1,\n",
              "         1, 1, 1, 1, 1, 1, 1, 1, 1, 1, 1, 1, 1, 1, 1, 1, 1, 1, 1, 1, 1, 1, 1, 1,\n",
              "         1, 1, 1, 1, 1, 1, 1, 1, 1, 1, 1, 1, 1, 1, 1, 1, 1, 1, 1, 1, 1, 1, 1, 1,\n",
              "         1, 1, 1, 1, 1, 1, 1, 1, 1, 1, 1, 1, 1, 1, 1, 1, 1, 1, 1, 1, 1, 1, 1, 1,\n",
              "         1, 1, 1, 1, 1, 1, 1, 1, 1, 1, 1, 1, 1, 1, 1, 1, 1, 1, 1, 1, 1, 1, 1, 1,\n",
              "         1, 1, 1, 1, 1, 1, 1, 1, 1, 1, 1, 1, 1, 1, 1, 1, 1, 1, 1, 1, 1, 1, 1, 1,\n",
              "         1, 1, 1, 1, 1, 1, 1, 1, 1, 1, 1]])}"
            ]
          },
          "metadata": {
            "tags": []
          },
          "execution_count": 16
        }
      ]
    },
    {
      "cell_type": "markdown",
      "metadata": {
        "id": "JlUcrO8uHn_D"
      },
      "source": [
        "#### Model predictions"
      ]
    },
    {
      "cell_type": "code",
      "metadata": {
        "id": "cw5CJddZHF-p",
        "outputId": "6cec3a30-98de-41b0-8494-c943fc53021c",
        "colab": {
          "base_uri": "https://localhost:8080/"
        }
      },
      "source": [
        "out = model(**inputs)\n",
        "out"
      ],
      "execution_count": 17,
      "outputs": [
        {
          "output_type": "execute_result",
          "data": {
            "text/plain": [
              "QuestionAnsweringModelOutput([('start_logits',\n",
              "                               tensor([[-4.1477, -4.3796, -5.3886, -5.8432, -6.2011, -5.7395, -6.1887, -6.5280,\n",
              "                                        -5.9422, -6.6591, -5.3750, -4.1477, -1.4374, -4.7159, -3.6722, -2.9581,\n",
              "                                        -5.4065, -6.1306, -5.9610, -5.4363, -5.8917, -5.3823, -5.7580, -5.2957,\n",
              "                                        -6.0031, -5.6724, -6.1080, -5.3913, -5.8815, -6.1443, -5.7425, -5.3519,\n",
              "                                        -6.0029, -6.0605, -6.1094, -5.7092, -6.3144, -2.6752, -1.7434, -2.0534,\n",
              "                                        -1.9726, -4.5848, -3.9979,  0.7013,  1.0322,  0.9215,  6.2602,  2.1015,\n",
              "                                         0.8172, -2.5703, -3.4227, -4.5868, -3.5444, -5.5673, -5.2932, -2.9465,\n",
              "                                        -2.6179, -4.5194, -3.7431, -5.2662, -5.5091, -5.4214, -4.3388, -5.4418,\n",
              "                                        -4.8818, -5.4307, -4.2456, -5.7052, -5.5813, -6.0767, -6.0020, -5.8299,\n",
              "                                        -6.2388, -6.1989, -6.3589, -6.1403, -5.8312, -6.1915, -6.2097, -5.7053,\n",
              "                                        -6.2503, -5.8935, -5.5525, -5.2167, -6.0376, -6.2928, -5.5515, -5.7314,\n",
              "                                        -6.3355, -5.3826, -5.8851, -6.1825, -6.5161, -6.0419, -6.5528, -5.2739,\n",
              "                                        -5.4110, -5.2062, -5.9939, -4.9970, -5.6964, -4.9769, -5.9288, -5.5915,\n",
              "                                        -5.5462, -6.1228, -5.6477, -5.8575, -5.0061, -5.7795, -5.8491, -5.1934,\n",
              "                                        -5.9191, -5.7300, -5.2207, -5.6166, -5.6874, -6.0588, -5.4084, -5.9538,\n",
              "                                        -5.9244, -6.1697, -5.6051, -2.9399, -4.5673, -5.5599, -5.9631, -5.9538,\n",
              "                                        -6.0121, -5.8109, -6.0558, -6.0829, -6.3567, -6.1154, -6.5089, -5.8779,\n",
              "                                        -5.8194, -6.3297, -6.2905, -6.4411, -5.9091, -6.0253, -6.0195, -6.2105,\n",
              "                                        -6.1528, -5.7683, -6.0335, -5.7653, -6.1582, -6.1568, -6.2431, -6.2685,\n",
              "                                        -6.4259, -6.5173, -5.7493, -4.4044, -5.5041, -4.9405, -5.0824, -5.5668,\n",
              "                                        -5.9529, -5.8144, -5.8987, -5.8795, -6.1827, -5.6046, -5.7563, -6.0560,\n",
              "                                        -6.1541, -5.9101, -5.5417, -4.9423, -5.3665, -5.8537, -5.8385, -6.0911,\n",
              "                                        -5.9079, -5.1992, -5.0397, -5.2078, -5.9611, -5.9799, -6.2607, -5.9556,\n",
              "                                        -5.7145, -6.2207, -6.4212, -6.4264, -6.4619, -6.1206, -6.0805, -6.2167,\n",
              "                                        -6.3645, -6.6231, -6.2969, -6.1481, -6.1549, -6.3736, -6.5416, -5.9054,\n",
              "                                        -5.9567, -5.8287, -6.2494, -6.1866, -5.8900, -6.2171, -6.3334, -6.1467,\n",
              "                                        -5.8092, -5.7566, -6.1316, -6.1361, -6.1999, -6.3289, -6.2879, -6.5282,\n",
              "                                        -6.0880, -5.8301, -6.1844, -6.2448, -6.3289, -6.1031, -6.2589, -6.5111,\n",
              "                                        -6.4825, -6.0534, -4.1477]], grad_fn=<CopyBackwards>)),\n",
              "                              ('end_logits',\n",
              "                               tensor([[-2.7954, -6.7049, -5.9627, -6.5058, -6.1858, -6.5801, -6.2124, -5.7619,\n",
              "                                        -6.5454, -5.5924, -5.3483, -2.7954, -5.6105, -6.0189, -3.7151, -5.9300,\n",
              "                                        -6.1779, -5.9445, -5.8925, -5.2783, -6.1068, -5.6073, -5.8961, -4.9938,\n",
              "                                        -5.8090, -5.7362, -6.0401, -5.9267, -6.0406, -4.3467, -5.9145, -6.3272,\n",
              "                                        -6.2569, -6.1374, -6.0370, -6.0499, -4.8024, -4.5451, -6.0576, -5.5834,\n",
              "                                        -4.2503, -5.7931, -2.7916, -4.1806, -3.8256, -3.5448, -1.0121, -3.4102,\n",
              "                                        -2.5588, -4.8094, -0.5205, -3.9976, -4.7849, -4.6268, -3.8405,  3.0840,\n",
              "                                        -4.1032, -4.2700, -5.7412, -5.3198, -5.6168, -1.8829, -4.1583, -4.6243,\n",
              "                                        -0.5048, -2.8617, -5.5510, -4.7941, -5.2024, -5.4306, -5.3764, -5.7682,\n",
              "                                        -5.8998, -5.8784, -4.7812, -5.2947, -5.8620, -6.0614, -5.5118, -5.8805,\n",
              "                                        -5.5094, -3.3483, -4.4061, -6.0710, -5.9891, -4.8498, -5.3748, -5.6932,\n",
              "                                        -4.9309, -5.0939, -5.9887, -5.9911, -4.8257, -5.2599, -4.8306, -0.7948,\n",
              "                                        -3.5672, -5.9786, -5.2887, -6.1608, -5.4985, -6.2541, -5.2743, -5.3926,\n",
              "                                        -6.0031, -5.4996, -3.2432, -5.2421, -5.7779, -5.9739, -5.3295, -6.0906,\n",
              "                                        -5.9897, -5.1054, -5.9389, -5.5015, -5.5296, -4.5029, -5.8994, -5.8269,\n",
              "                                        -6.0456, -6.0275, -2.8016, -1.7277, -6.4501, -6.4858, -6.4506, -6.0427,\n",
              "                                        -6.0090, -6.2346, -6.2035, -6.3616, -5.9274, -6.2772, -5.4948, -6.0601,\n",
              "                                        -6.4438, -5.9933, -6.0805, -5.6434, -6.4088, -6.2986, -6.4681, -6.2616,\n",
              "                                        -6.3610, -6.5851, -6.2938, -6.2723, -6.1878, -6.1862, -6.0756, -6.1301,\n",
              "                                        -5.9670, -5.7654, -5.7577, -6.1888, -6.3051, -6.2284, -6.3727, -5.9496,\n",
              "                                        -6.1979, -6.1694, -5.6905, -6.1456, -5.1738, -5.9259, -6.1354, -5.9815,\n",
              "                                        -6.0081, -4.2641, -6.1091, -6.1676, -5.8114, -6.0786, -4.6216, -4.8856,\n",
              "                                        -5.8637, -6.4594, -6.3390, -6.3040, -6.2150, -5.8631, -5.3751, -6.2838,\n",
              "                                        -6.3003, -5.9851, -5.7095, -4.5709, -5.4420, -6.2172, -6.4146, -6.1656,\n",
              "                                        -6.0174, -5.7047, -6.2590, -6.4541, -6.2940, -5.8247, -4.9170, -6.3786,\n",
              "                                        -6.2731, -6.4798, -6.2849, -6.0853, -6.3731, -6.2373, -5.9567, -6.1830,\n",
              "                                        -6.2700, -6.2962, -6.1733, -6.0778, -6.1317, -6.0300, -6.2189, -5.6873,\n",
              "                                        -6.2714, -6.2354, -6.1696, -5.9847, -5.9625, -6.3039, -6.2535, -5.6730,\n",
              "                                        -5.1869, -5.9036, -2.7954]], grad_fn=<CopyBackwards>))])"
            ]
          },
          "metadata": {
            "tags": []
          },
          "execution_count": 17
        }
      ]
    },
    {
      "cell_type": "markdown",
      "metadata": {
        "id": "_tNV_u0bHyrG"
      },
      "source": [
        "#### Convert token_id to tokens"
      ]
    },
    {
      "cell_type": "code",
      "metadata": {
        "id": "QtXUzr6ZHPnN"
      },
      "source": [
        "all_tokens = tokenizer.convert_ids_to_tokens(inputs['input_ids'].numpy().squeeze())\n",
        "#all_tokens"
      ],
      "execution_count": 19,
      "outputs": []
    },
    {
      "cell_type": "markdown",
      "metadata": {
        "id": "uORZAz2lH2-L"
      },
      "source": [
        "#### Take highet rated answer string"
      ]
    },
    {
      "cell_type": "code",
      "metadata": {
        "id": "3ABb5fl6HalH",
        "outputId": "f5f6f876-157e-4cfa-dfd7-f983b5cd12be",
        "colab": {
          "base_uri": "https://localhost:8080/",
          "height": 35
        }
      },
      "source": [
        "answer = ' '.join(all_tokens[torch.argmax(out.start_logits) : torch.argmax(out.end_logits)+1])\n",
        "answer"
      ],
      "execution_count": 20,
      "outputs": [
        {
          "output_type": "execute_result",
          "data": {
            "application/vnd.google.colaboratory.intrinsic+json": {
              "type": "string"
            },
            "text/plain": [
              "'in the Swiss can ##ton of Grau ##bü ##nde ##n'"
            ]
          },
          "metadata": {
            "tags": []
          },
          "execution_count": 20
        }
      ]
    },
    {
      "cell_type": "code",
      "metadata": {
        "id": "IvfLNeQfHdcB",
        "outputId": "9916cd86-63ea-43c9-ba4d-c98f4f1a7459",
        "colab": {
          "base_uri": "https://localhost:8080/",
          "height": 35
        }
      },
      "source": [
        "answer = answer.replace(' ##', '')\n",
        "answer"
      ],
      "execution_count": 21,
      "outputs": [
        {
          "output_type": "execute_result",
          "data": {
            "application/vnd.google.colaboratory.intrinsic+json": {
              "type": "string"
            },
            "text/plain": [
              "'in the Swiss canton of Graubünden'"
            ]
          },
          "metadata": {
            "tags": []
          },
          "execution_count": 21
        }
      ]
    },
    {
      "cell_type": "markdown",
      "metadata": {
        "id": "0_YmsO4VIDtD"
      },
      "source": [
        "### Evaluation function"
      ]
    },
    {
      "cell_type": "code",
      "metadata": {
        "id": "85TxuyFH3hPr"
      },
      "source": [
        "def evaluate(model, context, question):\n",
        "    inputs = tokenizer.encode_plus(\n",
        "        question, \n",
        "        context, \n",
        "        return_attention_mask = False, \n",
        "        return_tensors = 'pt',\n",
        "        return_token_type_ids = not('distilbert' in model_name_or_path) \n",
        "    )\n",
        "\n",
        "    # prediction for every token if it is start or end token\n",
        "    out = model(**inputs)\n",
        "\n",
        "    # we convert tokens to ids\n",
        "    all_tokens = tokenizer.convert_ids_to_tokens(inputs['input_ids'].numpy().squeeze())\n",
        "\n",
        "    # and combine all tokens from start to end\n",
        "    answer = ' '.join(all_tokens[torch.argmax(out.start_logits) : torch.argmax(out.end_logits)+1])\n",
        "    answer = answer.replace(' ##', '')\n",
        "    return answer"
      ],
      "execution_count": null,
      "outputs": []
    },
    {
      "cell_type": "code",
      "metadata": {
        "id": "wNZ4ofu56jdV",
        "colab": {
          "base_uri": "https://localhost:8080/",
          "height": 35
        },
        "outputId": "b99d3e63-892a-45e8-88b3-92ff80a6d118"
      },
      "source": [
        "context = \"\"\"\\\n",
        "The Rhine (Romansh: Rein, German: Rhein, French: le Rhin, Dutch: Rijn) \\\n",
        "is a European river that begins in the Swiss canton of Graubünden in the southeastern Swiss Alps, \\\n",
        "forms part of the Swiss-Austrian, Swiss-Liechtenstein border, Swiss-German and then the Franco-German border, \\\n",
        "then flows through the Rhineland and eventually empties into the North Sea in the Netherlands. \\\n",
        "The biggest city on the river Rhine is Cologne, Germany with a population of more than 1,050,000 people. \\\n",
        "It is the second-longest river in Central and Western Europe (after the Danube), at about 1,230 km (760 mi),\\\n",
        "[note 2][note 1] with an average discharge of about 2,900 m3/s (100,000 cu ft/s).\\\n",
        "\"\"\"\n",
        "\n",
        "question =  \"Where does the Rhine begin?\"\n",
        "# question = \"What is the largest city the Rhine runs through? \"\n",
        "# question = \"What river is larger than the Rhine?\"\n",
        "\n",
        "evaluate(model=model, context=context, question=question)"
      ],
      "execution_count": null,
      "outputs": [
        {
          "output_type": "execute_result",
          "data": {
            "application/vnd.google.colaboratory.intrinsic+json": {
              "type": "string"
            },
            "text/plain": [
              "'swiss canton of graubunden'"
            ]
          },
          "metadata": {
            "tags": []
          },
          "execution_count": 10
        }
      ]
    },
    {
      "cell_type": "markdown",
      "metadata": {
        "id": "tEwWISc29ItO"
      },
      "source": [
        "## Task\n",
        "Teste verschiedene Modelle mit witeren Kontexten und Fragen"
      ]
    },
    {
      "cell_type": "code",
      "metadata": {
        "id": "mHEDthxLGRUJ"
      },
      "source": [
        ""
      ],
      "execution_count": null,
      "outputs": []
    }
  ]
}